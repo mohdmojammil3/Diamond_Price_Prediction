{
 "cells": [
  {
   "cell_type": "code",
   "execution_count": 1,
   "metadata": {},
   "outputs": [],
   "source": [
    "import logging\n",
    "import os\n",
    "from datetime import datetime"
   ]
  },
  {
   "cell_type": "code",
   "execution_count": 2,
   "metadata": {},
   "outputs": [
    {
     "data": {
      "text/plain": [
       "datetime.datetime(2023, 10, 29, 9, 46, 1, 426072)"
      ]
     },
     "execution_count": 2,
     "metadata": {},
     "output_type": "execute_result"
    }
   ],
   "source": [
    "datetime.now()"
   ]
  },
  {
   "cell_type": "code",
   "execution_count": 3,
   "metadata": {},
   "outputs": [
    {
     "data": {
      "text/plain": [
       "'10_29_2023_09_46_58.log'"
      ]
     },
     "execution_count": 3,
     "metadata": {},
     "output_type": "execute_result"
    }
   ],
   "source": [
    "f\"{datetime.now().strftime('%m_%d_%Y_%H_%M_%S')}.log\""
   ]
  },
  {
   "cell_type": "code",
   "execution_count": 5,
   "metadata": {},
   "outputs": [
    {
     "data": {
      "text/plain": [
       "'c:\\\\fsdsmendtoend\\\\notebooks\\\\logs'"
      ]
     },
     "execution_count": 5,
     "metadata": {},
     "output_type": "execute_result"
    }
   ],
   "source": [
    "os.path.join(os.getcwd(),\"logs\")"
   ]
  },
  {
   "cell_type": "code",
   "execution_count": 7,
   "metadata": {},
   "outputs": [],
   "source": [
    "from src.DimondPricePrediction.logger import logging"
   ]
  },
  {
   "cell_type": "code",
   "execution_count": 8,
   "metadata": {},
   "outputs": [],
   "source": [
    "logging.info(\"i have just tested the things\")"
   ]
  },
  {
   "cell_type": "code",
   "execution_count": null,
   "metadata": {},
   "outputs": [],
   "source": [
    "import sys\n",
    "\n",
    "\n",
    "class customexception(Exception):\n",
    "    def __init__(self,error_message,error_details:sys):\n",
    "        self.error_message = error_message\n",
    "        _,_,exc_tb = error_details.exc_info()\n",
    "        \n",
    "        self.lineno=exc_tb.tb_lineno\n",
    "        self.file_name=exc_tb.tb_frame.f_code.co_filename \n",
    "    \n",
    "    def __str__(self):\n",
    "        return \"Error occured in python script name [{0}] line number [{1}] error message [{2}]\".format(\n",
    "        self.file_name, self.lineno, str(self.error_message))\n",
    "        "
   ]
  },
  {
   "cell_type": "code",
   "execution_count": 9,
   "metadata": {},
   "outputs": [],
   "source": [
    "import sys"
   ]
  },
  {
   "cell_type": "code",
   "execution_count": 13,
   "metadata": {},
   "outputs": [
    {
     "name": "stdout",
     "output_type": "stream",
     "text": [
      "2\n",
      "C:\\Users\\sunny\\AppData\\Local\\Temp\\ipykernel_14156\\1901770474.py\n",
      "division by zero\n"
     ]
    }
   ],
   "source": [
    "try:\n",
    "     a=1/0\n",
    "except Exception as e:\n",
    "     _,_,exc_tb=sys.exc_info()\n",
    "     print(exc_tb.tb_lineno)\n",
    "     print(exc_tb.tb_frame.f_code.co_filename)\n",
    "     \n",
    "     print(e)"
   ]
  },
  {
   "cell_type": "code",
   "execution_count": null,
   "metadata": {},
   "outputs": [],
   "source": [
    "class customexception(Exception):\n",
    "    def __init__(self):\n",
    "        pass\n",
    "    \n",
    "    def __str__(self):\n",
    "        pass"
   ]
  },
  {
   "cell_type": "code",
   "execution_count": null,
   "metadata": {},
   "outputs": [],
   "source": [
    "raise customexception(e,sys)"
   ]
  },
  {
   "cell_type": "code",
   "execution_count": 11,
   "metadata": {},
   "outputs": [
    {
     "data": {
      "text/plain": [
       "(None, None, None)"
      ]
     },
     "execution_count": 11,
     "metadata": {},
     "output_type": "execute_result"
    }
   ],
   "source": [
    "sys.exc_info()"
   ]
  },
  {
   "cell_type": "code",
   "execution_count": 17,
   "metadata": {},
   "outputs": [],
   "source": [
    "os.makedirs(os.path.dirname(os.path.join(\"artifacts\",\"raw.csv\")),exist_ok=True)"
   ]
  },
  {
   "cell_type": "code",
   "execution_count": null,
   "metadata": {},
   "outputs": [],
   "source": [
    "<html>\n",
    "<body>\n",
    "<form action=\"{{url_for('predict_datapoint')}}\" method=\"POST\">\n",
    "    <div class=\"form-group\">\n",
    "        <label for=\"carat\">Carat:</label>\n",
    "        <input type=\"text\" id=\"carat\" name=\"carat\" placeholder=\"Enter carat value (float)\">\n",
    "    </div>\n",
    "\n",
    "    <div class=\"form-group\">\n",
    "        <label for=\"depth\">Depth:</label>\n",
    "        <input type=\"text\" id=\"depth\" name=\"depth\" placeholder=\"Enter depth value (float)\">\n",
    "    </div>\n",
    "\n",
    "    <div class=\"form-group\">  \n",
    "        <label for=\"table\">Table:</label>\n",
    "        <input type=\"text\" id=\"table\" name=\"table\" placeholder=\"Enter table value (float)\">\n",
    "    </div>\n",
    "    \n",
    "    <div class=\"form-group\">\n",
    "        <label for=\"x\">x:</label>\n",
    "        <input type=\"text\" id=\"x\" name=\"x\" placeholder=\"Enter x value (float)\">\n",
    "    </div>\n",
    "  \n",
    "    <div class=\"form-group\">\n",
    "        <label for=\"y\">y:</label>\n",
    "        <input type=\"text\" id=\"y\" name=\"y\" placeholder=\"Enter y value (float)\">\n",
    "    </div>\n",
    "  \n",
    "    <div class=\"form-group\">\n",
    "        <label for=\"z\">z:</label>\n",
    "        <input type=\"text\" id=\"z\" name=\"z\" placeholder=\"Enter z value (float)\">\n",
    "    </div>         \n",
    "  \n",
    "<div class=\"form-group\">\n",
    "  <label for=\"cut\">Cut:</label>\n",
    "  <select id=\"cut\" name=\"cut\">\n",
    "    <option value=\"Fair\">Fair</option>\n",
    "    <option value=\"Good\">Good</option>\n",
    "    <option value=\"Very Good\">Very Good</option>\n",
    "    <option value=\"Premium\">Premium</option>\n",
    "    <option value=\"Ideal\">Ideal</option>\n",
    "  </select>\n",
    "</div>\n",
    "  \n",
    "<div class=\"form-group\">\n",
    "  <label for=\"color\">Color:</label>\n",
    "  <select id=\"color\" name=\"color\">\n",
    "    <option value=\"D\">D</option>\n",
    "    <option value=\"E\">E</option>\n",
    "    <option value=\"F\">F</option>\n",
    "    <option value=\"G\">G</option>\n",
    "    <option value=\"H\">H</option>\n",
    "    <option value=\"I\">I</option>\n",
    "    <option value=\"J\">J</option>\n",
    "  </select>\n",
    "</div>\n",
    "\n",
    "<div class=\"form-group\">\n",
    "  <label for=\"clarity\">Clarity:</label>\n",
    "  <select id=\"clarity\" name=\"clarity\">\n",
    "    <option value=\"I1\">I1</option>\n",
    "    <option value=\"SI2\">SI2</option>\n",
    "    <option value=\"SI1\">SI1</option>\n",
    "    <option value=\"VS2\">VS2</option>\n",
    "    <option value=\"VS1\">VS1</option>\n",
    "    <option value=\"VVS2\">VVS2</option>\n",
    "    <option value=\"VVS1\">VVS1</option>\n",
    "    <option value=\"IF\">IF</option>\n",
    "  </select>\n",
    "</div>\n",
    "\n",
    "<div style=\"clear:both;\"></div>\n",
    "  <input type=\"submit\" value=\"Submit\">\n",
    "</form>\n",
    "</body>\n",
    "</html>"
   ]
  },
  {
   "cell_type": "code",
   "execution_count": null,
   "metadata": {},
   "outputs": [],
   "source": []
  }
 ],
 "metadata": {
  "kernelspec": {
   "display_name": "Python 3",
   "language": "python",
   "name": "python3"
  },
  "language_info": {
   "codemirror_mode": {
    "name": "ipython",
    "version": 3
   },
   "file_extension": ".py",
   "mimetype": "text/x-python",
   "name": "python",
   "nbconvert_exporter": "python",
   "pygments_lexer": "ipython3",
   "version": "3.12.0"
  }
 },
 "nbformat": 4,
 "nbformat_minor": 2
}
